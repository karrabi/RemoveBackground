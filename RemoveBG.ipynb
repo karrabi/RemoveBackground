{
 "cells": [
  {
   "cell_type": "code",
   "execution_count": null,
   "id": "986d3b15-f5fd-4c86-9ce8-44bf03925260",
   "metadata": {},
   "outputs": [],
   "source": [
    "from PIL import Image\n",
    "import matplotlib.pyplot as plt\n",
    "import matplotlib.image as mpimg\n",
    "import torch\n",
    "from torchvision import transforms\n",
    "from transformers import AutoModelForImageSegmentation"
   ]
  },
  {
   "cell_type": "code",
   "execution_count": null,
   "id": "b79f27b2-fc2a-4c8d-b37e-bc7fd7caaff9",
   "metadata": {},
   "outputs": [],
   "source": [
    "model = AutoModelForImageSegmentation.from_pretrained('briaai/RMBG-2.0', trust_remote_code=True)\n",
    "torch.set_float32_matmul_precision(['high', 'highest'][0])\n",
    "# model.to('cuda')\n",
    "model.to('cpu')\n",
    "model.eval()\n",
    "\n",
    "# Data settings\n",
    "image_size = (1024, 1024)\n",
    "transform_image = transforms.Compose([\n",
    "    transforms.Resize(image_size),\n",
    "    transforms.ToTensor(),\n",
    "    transforms.Normalize([0.485, 0.456, 0.406], [0.229, 0.224, 0.225])\n",
    "])"
   ]
  },
  {
   "cell_type": "code",
   "execution_count": null,
   "id": "1f883921-61aa-4bff-aa90-30eb882b9965",
   "metadata": {},
   "outputs": [],
   "source": [
    "image = Image.open('apple.jpg')\n",
    "plt.imshow(image)\n",
    "plt.show()\n",
    "# input_images = transform_image(image).unsqueeze(0).to('cuda')\n",
    "input_images = transform_image(image).unsqueeze(0).to('cpu')"
   ]
  },
  {
   "cell_type": "code",
   "execution_count": null,
   "id": "a71b95a5-8ecb-43ca-86ab-2bb632309886",
   "metadata": {},
   "outputs": [],
   "source": [
    "# Prediction\n",
    "with torch.no_grad():\n",
    "    preds = model(input_images)[-1].sigmoid().cpu()\n",
    "pred = preds[0].squeeze()\n",
    "pred_pil = transforms.ToPILImage()(pred)\n",
    "mask = pred_pil.resize(image.size)\n",
    "image.putalpha(mask)\n",
    "plt.imshow(image)\n",
    "plt.show()\n",
    "image.save(\"no_bg_image.png\")"
   ]
  },
  {
   "cell_type": "code",
   "execution_count": null,
   "id": "e0b44cc7-fbdb-435c-8075-fefaff265c52",
   "metadata": {},
   "outputs": [],
   "source": []
  }
 ],
 "metadata": {
  "kernelspec": {
   "display_name": "Python 3 (ipykernel)",
   "language": "python",
   "name": "python3"
  },
  "language_info": {
   "codemirror_mode": {
    "name": "ipython",
    "version": 3
   },
   "file_extension": ".py",
   "mimetype": "text/x-python",
   "name": "python",
   "nbconvert_exporter": "python",
   "pygments_lexer": "ipython3",
   "version": "3.12.2"
  }
 },
 "nbformat": 4,
 "nbformat_minor": 5
}
